{
 "cells": [
  {
   "cell_type": "markdown",
   "metadata": {},
   "source": [
    "Logistic map:\n",
    "\n",
    "$f(x) = 4x(1-x)$"
   ]
  },
  {
   "cell_type": "code",
   "execution_count": 1,
   "metadata": {
    "collapsed": false
   },
   "outputs": [
    {
     "data": {
      "text/plain": [
       "f (generic function with 1 method)"
      ]
     },
     "execution_count": 1,
     "metadata": {},
     "output_type": "execute_result"
    }
   ],
   "source": [
    "f(x) = 4x*(1-x)"
   ]
  },
  {
   "cell_type": "code",
   "execution_count": 1,
   "metadata": {
    "collapsed": false
   },
   "outputs": [],
   "source": [
    "using IntervalConstraintProgramming, ValidatedNumerics"
   ]
  },
  {
   "cell_type": "code",
   "execution_count": 2,
   "metadata": {
    "collapsed": false
   },
   "outputs": [
    {
     "data": {
      "text/plain": [
       "Separator with variables x"
      ]
     },
     "execution_count": 2,
     "metadata": {},
     "output_type": "execute_result"
    }
   ],
   "source": [
    "C = @constraint 4x*(1-x) ∈ [0.3, 0.4]"
   ]
  },
  {
   "cell_type": "code",
   "execution_count": 3,
   "metadata": {
    "collapsed": false
   },
   "outputs": [
    {
     "data": {
      "text/plain": [
       "[0, 1]"
      ]
     },
     "execution_count": 3,
     "metadata": {},
     "output_type": "execute_result"
    }
   ],
   "source": [
    "X = IntervalBox(0..1)"
   ]
  },
  {
   "cell_type": "code",
   "execution_count": 4,
   "metadata": {
    "collapsed": false
   },
   "outputs": [
    {
     "data": {
      "text/plain": [
       "Paving:\n",
       "- tolerance ϵ = 0.01\n",
       "- inner approx. of length 4\n",
       "- boundary approx. of length 4"
      ]
     },
     "execution_count": 4,
     "metadata": {},
     "output_type": "execute_result"
    }
   ],
   "source": [
    "paving = pave(C, X)"
   ]
  },
  {
   "cell_type": "code",
   "execution_count": 5,
   "metadata": {
    "collapsed": false
   },
   "outputs": [
    {
     "data": {
      "text/plain": [
       "4-element Array{ValidatedNumerics.IntervalBox{1,Float64},1}:\n",
       " [0.901015, 0.916761] \n",
       " [0.889014, 0.901016] \n",
       " [0.0989849, 0.110986]\n",
       " [0.0832394, 0.098985]"
      ]
     },
     "execution_count": 5,
     "metadata": {},
     "output_type": "execute_result"
    }
   ],
   "source": [
    "paving.inner"
   ]
  },
  {
   "cell_type": "code",
   "execution_count": 6,
   "metadata": {
    "collapsed": false
   },
   "outputs": [
    {
     "data": {
      "text/plain": [
       "4-element Array{ValidatedNumerics.IntervalBox{1,Float64},1}:\n",
       " [0.91676, 0.918335]   \n",
       " [0.886832, 0.889015]  \n",
       " [0.110985, 0.113168]  \n",
       " [0.0816653, 0.0832395]"
      ]
     },
     "execution_count": 6,
     "metadata": {},
     "output_type": "execute_result"
    }
   ],
   "source": [
    "paving.boundary"
   ]
  },
  {
   "cell_type": "markdown",
   "metadata": {},
   "source": [
    "Inverse functions:\n"
   ]
  },
  {
   "cell_type": "code",
   "execution_count": 7,
   "metadata": {
    "collapsed": false
   },
   "outputs": [
    {
     "data": {
      "text/plain": [
       "g2 (generic function with 1 method)"
      ]
     },
     "execution_count": 7,
     "metadata": {},
     "output_type": "execute_result"
    }
   ],
   "source": [
    "g1(x) = (1/2) * (1 + √(1-x))\n",
    "g2(x) = (1/2) * (1 - √(1-x))"
   ]
  },
  {
   "cell_type": "code",
   "execution_count": 8,
   "metadata": {
    "collapsed": false
   },
   "outputs": [
    {
     "data": {
      "text/plain": [
       "[0.0816699, 0.112702]"
      ]
     },
     "execution_count": 8,
     "metadata": {},
     "output_type": "execute_result"
    }
   ],
   "source": [
    "Y = IntervalBox(hull(g2(Interval(0.3)), g2(Interval(0.4))))"
   ]
  },
  {
   "cell_type": "code",
   "execution_count": 9,
   "metadata": {
    "collapsed": false
   },
   "outputs": [
    {
     "data": {
      "text/plain": [
       "0-element Array{ValidatedNumerics.IntervalBox{1,Float64},1}"
      ]
     },
     "execution_count": 9,
     "metadata": {},
     "output_type": "execute_result"
    }
   ],
   "source": [
    "setdiff(Y, paving)"
   ]
  },
  {
   "cell_type": "code",
   "execution_count": 10,
   "metadata": {
    "collapsed": false
   },
   "outputs": [
    {
     "data": {
      "text/plain": [
       "2-element Array{ValidatedNumerics.IntervalBox{1,Float64},1}:\n",
       " [0.0816699, 0.0832395]\n",
       " [0.110985, 0.112702]  "
      ]
     },
     "execution_count": 10,
     "metadata": {},
     "output_type": "execute_result"
    }
   ],
   "source": [
    "setdiff(Y, paving.inner)"
   ]
  },
  {
   "cell_type": "markdown",
   "metadata": {},
   "source": [
    "Second iterate:"
   ]
  },
  {
   "cell_type": "code",
   "execution_count": 69,
   "metadata": {
    "collapsed": false
   },
   "outputs": [
    {
     "data": {
      "text/plain": [
       "Separator with variables x"
      ]
     },
     "execution_count": 69,
     "metadata": {},
     "output_type": "execute_result"
    }
   ],
   "source": [
    "C2 = @constraint 4*(4x*(1-x))*(1-(4x*(1-x))) ∈ [0.3, 0.4]"
   ]
  },
  {
   "cell_type": "code",
   "execution_count": 77,
   "metadata": {
    "collapsed": false
   },
   "outputs": [
    {
     "data": {
      "text/plain": [
       "Paving:\n",
       "- tolerance ϵ = 1.0e-6\n",
       "- inner approx. of length 122\n",
       "- boundary approx. of length 20"
      ]
     },
     "execution_count": 77,
     "metadata": {},
     "output_type": "execute_result"
    }
   ],
   "source": [
    "paving = pave(C2, X, 1e-6)"
   ]
  },
  {
   "cell_type": "code",
   "execution_count": 74,
   "metadata": {
    "collapsed": false
   },
   "outputs": [
    {
     "data": {
      "text/plain": [
       "68-element Array{ValidatedNumerics.IntervalBox{1,Float64},1}:\n",
       " [0.974218, 0.978592]  \n",
       " [0.978878, 0.979118]  \n",
       " [0.978591, 0.978879]  \n",
       " [0.971488, 0.974219]  \n",
       " [0.971088, 0.971489]  \n",
       " [0.971, 0.971089]     \n",
       " [0.657081, 0.660659]  \n",
       " [0.666639, 0.666798]  \n",
       " [0.666797, 0.667132]  \n",
       " [0.667836, 0.66784]   \n",
       " [0.667131, 0.667405]  \n",
       " [0.66762, 0.66771]    \n",
       " [0.667772, 0.667806]  \n",
       " ⋮                     \n",
       " [0.332379, 0.332596]  \n",
       " [0.33229, 0.33238]    \n",
       " [0.332227, 0.332291]  \n",
       " [0.332163, 0.332165]  \n",
       " [0.332194, 0.332228]  \n",
       " [0.33216, 0.332164]   \n",
       " [0.0257812, 0.0285113]\n",
       " [0.0289111, 0.0289997]\n",
       " [0.0285112, 0.0289112]\n",
       " [0.021408, 0.0257813] \n",
       " [0.0211211, 0.0214081]\n",
       " [0.020882, 0.0211212] "
      ]
     },
     "execution_count": 74,
     "metadata": {},
     "output_type": "execute_result"
    }
   ],
   "source": [
    "paving.inner"
   ]
  },
  {
   "cell_type": "markdown",
   "metadata": {},
   "source": [
    "Inverses:"
   ]
  },
  {
   "cell_type": "code",
   "execution_count": 78,
   "metadata": {
    "collapsed": false
   },
   "outputs": [
    {
     "data": {
      "text/plain": [
       "1-dimensional length: [9.36162e-06, 9.36163e-06]"
      ]
     },
     "execution_count": 78,
     "metadata": {},
     "output_type": "execute_result"
    }
   ],
   "source": [
    "Vol(paving.boundary)"
   ]
  },
  {
   "cell_type": "code",
   "execution_count": 79,
   "metadata": {
    "collapsed": false
   },
   "outputs": [
    {
     "data": {
      "text/plain": [
       "20-element Array{ValidatedNumerics.IntervalBox{1,Float64},1}:\n",
       " [0.979147, 0.979148]  \n",
       " [0.970982, 0.970983]  \n",
       " [0.667857, 0.667859]  \n",
       " [0.667855, 0.667857]  \n",
       " [0.667854, 0.667856]  \n",
       " [0.667852, 0.667854]  \n",
       " [0.642891, 0.642893]  \n",
       " [0.642889, 0.642891]  \n",
       " [0.642888, 0.64289]   \n",
       " [0.642886, 0.642887]  \n",
       " [0.357113, 0.357114]  \n",
       " [0.35711, 0.357112]   \n",
       " [0.357109, 0.357111]  \n",
       " [0.357107, 0.357109]  \n",
       " [0.332146, 0.332148]  \n",
       " [0.332144, 0.332146]  \n",
       " [0.332143, 0.332145]  \n",
       " [0.332141, 0.332143]  \n",
       " [0.0290173, 0.0290178]\n",
       " [0.0208522, 0.0208524]"
      ]
     },
     "execution_count": 79,
     "metadata": {},
     "output_type": "execute_result"
    }
   ],
   "source": [
    "paving.boundary"
   ]
  },
  {
   "cell_type": "code",
   "execution_count": 17,
   "metadata": {
    "collapsed": false
   },
   "outputs": [
    {
     "data": {
      "text/plain": [
       "h1 (generic function with 1 method)"
      ]
     },
     "execution_count": 17,
     "metadata": {},
     "output_type": "execute_result"
    }
   ],
   "source": [
    "h1(x) = (1/2) * (1 - √(1 - √(1 - x)) / √2)"
   ]
  },
  {
   "cell_type": "code",
   "execution_count": 18,
   "metadata": {
    "collapsed": false
   },
   "outputs": [
    {
     "data": {
      "text/plain": [
       "[0.332144, 0.357111]"
      ]
     },
     "execution_count": 18,
     "metadata": {},
     "output_type": "execute_result"
    }
   ],
   "source": [
    "Y = IntervalBox(hull(h1(Interval(0.3)), h1(Interval(0.4))))"
   ]
  },
  {
   "cell_type": "code",
   "execution_count": 19,
   "metadata": {
    "collapsed": false
   },
   "outputs": [
    {
     "data": {
      "text/plain": [
       "0-element Array{ValidatedNumerics.IntervalBox{1,Float64},1}"
      ]
     },
     "execution_count": 19,
     "metadata": {},
     "output_type": "execute_result"
    }
   ],
   "source": [
    "setdiff(Y, paving)"
   ]
  },
  {
   "cell_type": "markdown",
   "metadata": {
    "collapsed": true
   },
   "source": [
    "## Forward and reverse by hand"
   ]
  },
  {
   "cell_type": "code",
   "execution_count": 2,
   "metadata": {
    "collapsed": false
   },
   "outputs": [
    {
     "data": {
      "text/plain": [
       "[0, 1]"
      ]
     },
     "execution_count": 2,
     "metadata": {},
     "output_type": "execute_result"
    }
   ],
   "source": [
    "x = 0..1"
   ]
  },
  {
   "cell_type": "markdown",
   "metadata": {},
   "source": [
    "Do `@constraint f(f(x)) in [0.3,0.4]` by hand:"
   ]
  },
  {
   "cell_type": "code",
   "execution_count": 38,
   "metadata": {
    "collapsed": false
   },
   "outputs": [
    {
     "data": {
      "text/plain": [
       "(anonymous function)"
      ]
     },
     "execution_count": 38,
     "metadata": {},
     "output_type": "execute_result"
    }
   ],
   "source": [
    "#ex = :(4x*(1-x))\n",
    "#-4(x^2 - x)\n",
    "ex = :(-4( (x-0.5)^2 - 0.25 ))\n",
    "\n",
    "f_forward_code = IntervalConstraintProgramming.forward_pass(ex)\n",
    "f_reverse_code = IntervalConstraintProgramming.backward_pass(ex)\n",
    "\n",
    "f_forward = eval(f_forward_code)\n",
    "f_reverse = eval(f_reverse_code)\n"
   ]
  },
  {
   "cell_type": "code",
   "execution_count": 29,
   "metadata": {
    "collapsed": false
   },
   "outputs": [
    {
     "data": {
      "text/plain": [
       "[0, 1]"
      ]
     },
     "execution_count": 29,
     "metadata": {},
     "output_type": "execute_result"
    }
   ],
   "source": [
    "x = 0..1"
   ]
  },
  {
   "cell_type": "code",
   "execution_count": 30,
   "metadata": {
    "collapsed": false
   },
   "outputs": [
    {
     "data": {
      "text/plain": [
       ":((x,)->begin  # /Users/dpsanders/.julia/v0.4/IntervalConstraintProgramming/src/contractor.jl, line 248:\n",
       "            begin \n",
       "                _z10_ = x - 0.5\n",
       "                _z11_ = _z10_ ^ 2\n",
       "                _z12_ = _z11_ - 0.25\n",
       "                _z13_ = -4_z12_\n",
       "                return (_z10_,_z11_,_z12_,_z13_)\n",
       "            end\n",
       "        end)"
      ]
     },
     "execution_count": 30,
     "metadata": {},
     "output_type": "execute_result"
    }
   ],
   "source": [
    "f_forward_code"
   ]
  },
  {
   "cell_type": "code",
   "execution_count": 32,
   "metadata": {
    "collapsed": false
   },
   "outputs": [
    {
     "data": {
      "text/plain": [
       "([-0.5, 0.5],[0, 0.25],[-0.25, 0],[-0, 1])"
      ]
     },
     "execution_count": 32,
     "metadata": {},
     "output_type": "execute_result"
    }
   ],
   "source": [
    "z1, z2, z3 = f_forward(x)"
   ]
  },
  {
   "cell_type": "code",
   "execution_count": 34,
   "metadata": {
    "collapsed": false
   },
   "outputs": [
    {
     "data": {
      "text/plain": [
       "[0.299999, 0.3125]"
      ]
     },
     "execution_count": 34,
     "metadata": {},
     "output_type": "execute_result"
    }
   ],
   "source": [
    "z4, z5, z6 = f_forward(z3)\n",
    "z6 = z6 ∩ (0.3..0.4)"
   ]
  },
  {
   "cell_type": "code",
   "execution_count": 21,
   "metadata": {
    "collapsed": false
   },
   "outputs": [
    {
     "name": "stderr",
     "output_type": "stream",
     "text": [
      "WARNING: redefining constant rev_ops\n"
     ]
    },
    {
     "data": {
      "text/plain": [
       "pow_rev2 (generic function with 1 method)"
      ]
     },
     "execution_count": 21,
     "metadata": {},
     "output_type": "execute_result"
    }
   ],
   "source": [
    "include(\"../src/reverse_mode.jl\")"
   ]
  },
  {
   "cell_type": "code",
   "execution_count": 22,
   "metadata": {
    "collapsed": false
   },
   "outputs": [
    {
     "data": {
      "text/plain": [
       "[-0, 0.981251]"
      ]
     },
     "execution_count": 22,
     "metadata": {},
     "output_type": "execute_result"
    }
   ],
   "source": [
    "z3_new = f_reverse(z3, z4, z5, z6)[1]"
   ]
  },
  {
   "cell_type": "code",
   "execution_count": 23,
   "metadata": {
    "collapsed": false
   },
   "outputs": [
    {
     "data": {
      "text/plain": [
       "[-0, 0.981251]"
      ]
     },
     "execution_count": 23,
     "metadata": {},
     "output_type": "execute_result"
    }
   ],
   "source": [
    "z3 = z3 ∩ z3_new"
   ]
  },
  {
   "cell_type": "code",
   "execution_count": 26,
   "metadata": {
    "collapsed": false
   },
   "outputs": [
    {
     "data": {
      "text/plain": [
       "[0, 1]"
      ]
     },
     "execution_count": 26,
     "metadata": {},
     "output_type": "execute_result"
    }
   ],
   "source": [
    "x_new = f_reverse(x, z1, z2, z3)[1]"
   ]
  },
  {
   "cell_type": "code",
   "execution_count": 27,
   "metadata": {
    "collapsed": false
   },
   "outputs": [
    {
     "data": {
      "text/plain": [
       "[0, 1]"
      ]
     },
     "execution_count": 27,
     "metadata": {},
     "output_type": "execute_result"
    }
   ],
   "source": [
    "x = x ∩ x_new"
   ]
  },
  {
   "cell_type": "markdown",
   "metadata": {},
   "source": [
    "## Use better expression with single occurrence of x:"
   ]
  },
  {
   "cell_type": "code",
   "execution_count": 36,
   "metadata": {
    "collapsed": false
   },
   "outputs": [
    {
     "data": {
      "text/plain": [
       "(anonymous function)"
      ]
     },
     "execution_count": 36,
     "metadata": {},
     "output_type": "execute_result"
    }
   ],
   "source": [
    "ex = :(-4( (x-0.5)^2 - 0.25 ))\n",
    "\n",
    "g_forward_code = IntervalConstraintProgramming.forward_pass(ex)\n",
    "g_reverse_code = IntervalConstraintProgramming.backward_pass(ex)\n",
    "\n",
    "g_forward = eval(f_forward_code)\n",
    "g_reverse = eval(f_reverse_code)\n"
   ]
  },
  {
   "cell_type": "code",
   "execution_count": 39,
   "metadata": {
    "collapsed": false
   },
   "outputs": [
    {
     "data": {
      "text/plain": [
       ":((x,)->begin  # /Users/dpsanders/.julia/v0.4/IntervalConstraintProgramming/src/contractor.jl, line 248:\n",
       "            begin \n",
       "                _z26_ = x - 0.5\n",
       "                _z27_ = _z26_ ^ 2\n",
       "                _z28_ = _z27_ - 0.25\n",
       "                _z29_ = -4_z28_\n",
       "                return (_z26_,_z27_,_z28_,_z29_)\n",
       "            end\n",
       "        end)"
      ]
     },
     "execution_count": 39,
     "metadata": {},
     "output_type": "execute_result"
    }
   ],
   "source": [
    "g_forward_code"
   ]
  },
  {
   "cell_type": "code",
   "execution_count": 40,
   "metadata": {
    "collapsed": false
   },
   "outputs": [
    {
     "data": {
      "text/plain": [
       ":((x,_z30_,_z31_,_z32_,_z33_)->begin  # /Users/dpsanders/.julia/v0.4/IntervalConstraintProgramming/src/contractor.jl, line 248:\n",
       "            begin \n",
       "                (_z33_,_,_z32_) = mul_rev(_z33_,-4,_z32_)\n",
       "                (_z32_,_z31_,_) = minus_rev(_z32_,_z31_,0.25)\n",
       "                (_z31_,_z30_,_) = power_rev(_z31_,_z30_,2)\n",
       "                (_z30_,x,_) = minus_rev(_z30_,x,0.5)\n",
       "                return (x,)\n",
       "            end\n",
       "        end)"
      ]
     },
     "execution_count": 40,
     "metadata": {},
     "output_type": "execute_result"
    }
   ],
   "source": [
    "g_reverse_code"
   ]
  },
  {
   "cell_type": "code",
   "execution_count": 47,
   "metadata": {
    "collapsed": false
   },
   "outputs": [
    {
     "data": {
      "text/plain": [
       "([-0.5, 0.5],[0, 0.25],[-0.25, 0],[-0, 1])"
      ]
     },
     "execution_count": 47,
     "metadata": {},
     "output_type": "execute_result"
    }
   ],
   "source": [
    "x = 0..1\n",
    "z1, z2, z3, z4 = g_forward(x)"
   ]
  },
  {
   "cell_type": "code",
   "execution_count": 48,
   "metadata": {
    "collapsed": false
   },
   "outputs": [
    {
     "data": {
      "text/plain": [
       "[0.299999, 0.400001]"
      ]
     },
     "execution_count": 48,
     "metadata": {},
     "output_type": "execute_result"
    }
   ],
   "source": [
    "z5, z6, z7, z8 = g_forward(z4)\n",
    "z8 = z8 ∩ (0.3..0.4)"
   ]
  },
  {
   "cell_type": "code",
   "execution_count": 49,
   "metadata": {
    "collapsed": false
   },
   "outputs": [
    {
     "data": {
      "text/plain": [
       "[0.0816699, 0.918331]"
      ]
     },
     "execution_count": 49,
     "metadata": {},
     "output_type": "execute_result"
    }
   ],
   "source": [
    "z4_new = g_reverse(z4, z5, z6, z7, z8)[1]"
   ]
  },
  {
   "cell_type": "code",
   "execution_count": 50,
   "metadata": {
    "collapsed": false
   },
   "outputs": [
    {
     "data": {
      "text/plain": [
       "[0.0816699, 0.918331]"
      ]
     },
     "execution_count": 50,
     "metadata": {},
     "output_type": "execute_result"
    }
   ],
   "source": [
    "z4 = z4 ∩ z4_new"
   ]
  },
  {
   "cell_type": "code",
   "execution_count": 53,
   "metadata": {
    "collapsed": false
   },
   "outputs": [
    {
     "data": {
      "text/plain": [
       "[0.0208523, 0.979148]"
      ]
     },
     "execution_count": 53,
     "metadata": {},
     "output_type": "execute_result"
    }
   ],
   "source": [
    "x_new = g_reverse(x, z1, z2, z3, z4)[1]\n",
    "x = x ∩ x_new"
   ]
  },
  {
   "cell_type": "markdown",
   "metadata": {},
   "source": [
    "Next step: bisect"
   ]
  },
  {
   "cell_type": "code",
   "execution_count": 54,
   "metadata": {
    "collapsed": false
   },
   "outputs": [
    {
     "data": {
      "text/plain": [
       "([-0.479148, 0],[0, 0.229583],[-0.25, -0.0204174],[0.0816699, 1])"
      ]
     },
     "execution_count": 54,
     "metadata": {},
     "output_type": "execute_result"
    }
   ],
   "source": [
    "x = Interval(x.lo, mid(x))\n",
    "z1, z2, z3, z4 = g_forward(x)"
   ]
  },
  {
   "cell_type": "code",
   "execution_count": 55,
   "metadata": {
    "collapsed": false
   },
   "outputs": [
    {
     "data": {
      "text/plain": [
       "[0.299999, 0.400001]"
      ]
     },
     "execution_count": 55,
     "metadata": {},
     "output_type": "execute_result"
    }
   ],
   "source": [
    "z5, z6, z7, z8 = g_forward(z4)\n",
    "z8 = z8 ∩ (0.3..0.4)"
   ]
  },
  {
   "cell_type": "code",
   "execution_count": 56,
   "metadata": {
    "collapsed": false
   },
   "outputs": [
    {
     "data": {
      "text/plain": [
       "[0.0816699, 0.918331]"
      ]
     },
     "execution_count": 56,
     "metadata": {},
     "output_type": "execute_result"
    }
   ],
   "source": [
    "z4_new = g_reverse(z4, z5, z6, z7, z8)[1]"
   ]
  },
  {
   "cell_type": "code",
   "execution_count": 57,
   "metadata": {
    "collapsed": false
   },
   "outputs": [
    {
     "data": {
      "text/plain": [
       "[0.0816699, 0.918331]"
      ]
     },
     "execution_count": 57,
     "metadata": {},
     "output_type": "execute_result"
    }
   ],
   "source": [
    "z4 = z4 ∩ z4_new"
   ]
  },
  {
   "cell_type": "code",
   "execution_count": 58,
   "metadata": {
    "collapsed": false
   },
   "outputs": [
    {
     "data": {
      "text/plain": [
       "[0.0208523, 0.357111]"
      ]
     },
     "execution_count": 58,
     "metadata": {},
     "output_type": "execute_result"
    }
   ],
   "source": [
    "x_new = g_reverse(x, z1, z2, z3, z4)[1]\n",
    "x = x ∩ x_new"
   ]
  },
  {
   "cell_type": "markdown",
   "metadata": {},
   "source": [
    "Next step: bisect again:"
   ]
  },
  {
   "cell_type": "code",
   "execution_count": 80,
   "metadata": {
    "collapsed": false
   },
   "outputs": [
    {
     "data": {
      "text/plain": [
       "([-0.479148, -0.311018],[0.0967326, 0.229583],[-0.153268, -0.0204174],[0.0816699, 0.61307])"
      ]
     },
     "execution_count": 80,
     "metadata": {},
     "output_type": "execute_result"
    }
   ],
   "source": [
    "x = Interval(x.lo, mid(x))\n",
    "z1, z2, z3, z4 = g_forward(x)"
   ]
  },
  {
   "cell_type": "code",
   "execution_count": 81,
   "metadata": {
    "collapsed": false
   },
   "outputs": [
    {
     "data": {
      "text/plain": [
       "[0.299999, 0.400001]"
      ]
     },
     "execution_count": 81,
     "metadata": {},
     "output_type": "execute_result"
    }
   ],
   "source": [
    "z5, z6, z7, z8 = g_forward(z4)\n",
    "z8 = z8 ∩ (0.3..0.4)"
   ]
  },
  {
   "cell_type": "code",
   "execution_count": 82,
   "metadata": {
    "collapsed": false
   },
   "outputs": [
    {
     "data": {
      "text/plain": [
       "[0.0816699, 0.112702]"
      ]
     },
     "execution_count": 82,
     "metadata": {},
     "output_type": "execute_result"
    }
   ],
   "source": [
    "z4_new = g_reverse(z4, z5, z6, z7, z8)[1]"
   ]
  },
  {
   "cell_type": "code",
   "execution_count": 83,
   "metadata": {
    "collapsed": false
   },
   "outputs": [
    {
     "data": {
      "text/plain": [
       "[0.0816699, 0.112702]"
      ]
     },
     "execution_count": 83,
     "metadata": {},
     "output_type": "execute_result"
    }
   ],
   "source": [
    "z4 = z4 ∩ z4_new"
   ]
  },
  {
   "cell_type": "code",
   "execution_count": 84,
   "metadata": {
    "collapsed": false
   },
   "outputs": [
    {
     "data": {
      "text/plain": [
       "[0.0208523, 0.0290175]"
      ]
     },
     "execution_count": 84,
     "metadata": {},
     "output_type": "execute_result"
    }
   ],
   "source": [
    "x_new = g_reverse(x, z1, z2, z3, z4)[1]\n",
    "x = x ∩ x_new"
   ]
  },
  {
   "cell_type": "code",
   "execution_count": 85,
   "metadata": {
    "collapsed": false
   },
   "outputs": [
    {
     "data": {
      "text/plain": [
       "1-dimensional length: [0.00816511, 0.00816512]"
      ]
     },
     "execution_count": 85,
     "metadata": {},
     "output_type": "execute_result"
    }
   ],
   "source": [
    "Vol(ans)"
   ]
  },
  {
   "cell_type": "code",
   "execution_count": null,
   "metadata": {
    "collapsed": true
   },
   "outputs": [],
   "source": []
  }
 ],
 "metadata": {
  "kernelspec": {
   "display_name": "Julia 0.4.6",
   "language": "julia",
   "name": "julia-0.4"
  },
  "language_info": {
   "file_extension": ".jl",
   "mimetype": "application/julia",
   "name": "julia",
   "version": "0.4.6"
  },
  "widgets": {
   "state": {},
   "version": "1.1.2"
  }
 },
 "nbformat": 4,
 "nbformat_minor": 0
}
