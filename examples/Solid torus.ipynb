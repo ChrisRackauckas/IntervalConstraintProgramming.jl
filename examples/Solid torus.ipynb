{
 "cells": [
  {
   "cell_type": "code",
   "execution_count": 1,
   "metadata": {
    "collapsed": false
   },
   "outputs": [
    {
     "name": "stderr",
     "output_type": "stream",
     "text": [
      "WARNING: Base.writemime is deprecated.\n",
      "  likely near /Users/dpsanders/.julia/v0.5/IJulia/src/kernel.jl:31\n",
      "WARNING: Base.writemime is deprecated.\n",
      "  likely near /Users/dpsanders/.julia/v0.5/IJulia/src/kernel.jl:31\n",
      "WARNING: Base.writemime is deprecated.\n",
      "  likely near /Users/dpsanders/.julia/v0.5/IJulia/src/kernel.jl:31\n",
      "WARNING: Base.writemime is deprecated.\n",
      "  likely near /Users/dpsanders/.julia/v0.5/IJulia/src/kernel.jl:31\n"
     ]
    }
   ],
   "source": [
    "using IntervalConstraintProgramming, ValidatedNumerics"
   ]
  },
  {
   "cell_type": "code",
   "execution_count": 3,
   "metadata": {
    "collapsed": false
   },
   "outputs": [
    {
     "name": "stdout",
     "output_type": "stream",
     "text": [
      "code = quote  # /Users/dpsanders/.julia/v0.5/IntervalConstraintProgramming/src/contractor.jl, line 38: # /Users/dpsanders/.julia/v0.5/IntervalConstraintProgramming/src/contractor.jl, line 38: # /Users/dpsanders/.julia/v0.5/IntervalConstraintProgramming/src/contractor.jl, line 18: # /Users/dpsanders/.julia/v0.5/IntervalConstraintProgramming/src/contractor.jl, line 14:\n",
      "    z4 = x ^ 2 # /Users/dpsanders/.julia/v0.5/IntervalConstraintProgramming/src/contractor.jl, line 38: # /Users/dpsanders/.julia/v0.5/IntervalConstraintProgramming/src/contractor.jl, line 18: # /Users/dpsanders/.julia/v0.5/IntervalConstraintProgramming/src/contractor.jl, line 14:\n",
      "    z5 = y ^ 2\n",
      "    z6 = z4 + z5\n",
      "    z6 = z6 ∩ _A_\n",
      "    (z6,z4,z5) = plus_rev(z6,z4,z5)\n",
      "    (z5,y,_) = power_rev(z5,y,2)\n",
      "    (z4,x,_) = power_rev(z4,x,2)\n",
      "    return (x,y)\n",
      "end\n"
     ]
    },
    {
     "data": {
      "text/plain": [
       "Separator with variables x, y"
      ]
     },
     "execution_count": 3,
     "metadata": {},
     "output_type": "execute_result"
    }
   ],
   "source": [
    "disc = @constraint x^2+y^2 <= 1"
   ]
  },
  {
   "cell_type": "code",
   "execution_count": 4,
   "metadata": {
    "collapsed": false
   },
   "outputs": [
    {
     "name": "stdout",
     "output_type": "stream",
     "text": [
      "code = quote  # /Users/dpsanders/.julia/v0.5/IntervalConstraintProgramming/src/contractor.jl, line 38: # /Users/dpsanders/.julia/v0.5/IntervalConstraintProgramming/src/contractor.jl, line 38: # /Users/dpsanders/.julia/v0.5/IntervalConstraintProgramming/src/contractor.jl, line 38: # /Users/dpsanders/.julia/v0.5/IntervalConstraintProgramming/src/contractor.jl, line 14: # /Users/dpsanders/.julia/v0.5/IntervalConstraintProgramming/src/contractor.jl, line 38: # /Users/dpsanders/.julia/v0.5/IntervalConstraintProgramming/src/contractor.jl, line 38: # /Users/dpsanders/.julia/v0.5/IntervalConstraintProgramming/src/contractor.jl, line 38: # /Users/dpsanders/.julia/v0.5/IntervalConstraintProgramming/src/contractor.jl, line 18: # /Users/dpsanders/.julia/v0.5/IntervalConstraintProgramming/src/contractor.jl, line 14:\n",
      "    z7 = x ^ 2 # /Users/dpsanders/.julia/v0.5/IntervalConstraintProgramming/src/contractor.jl, line 38: # /Users/dpsanders/.julia/v0.5/IntervalConstraintProgramming/src/contractor.jl, line 18: # /Users/dpsanders/.julia/v0.5/IntervalConstraintProgramming/src/contractor.jl, line 14:\n",
      "    z8 = y ^ 2\n",
      "    z9 = z7 + z8\n",
      "    z10 = sqrt(z9)\n",
      "    z11 = 3 - z10 # /Users/dpsanders/.julia/v0.5/IntervalConstraintProgramming/src/contractor.jl, line 14:\n",
      "    z12 = z11 ^ 2 # /Users/dpsanders/.julia/v0.5/IntervalConstraintProgramming/src/contractor.jl, line 38: # /Users/dpsanders/.julia/v0.5/IntervalConstraintProgramming/src/contractor.jl, line 18: # /Users/dpsanders/.julia/v0.5/IntervalConstraintProgramming/src/contractor.jl, line 14:\n",
      "    z13 = z ^ 2\n",
      "    z14 = z12 + z13\n",
      "    z14 = z14 ∩ _A_\n",
      "    (z14,z12,z13) = plus_rev(z14,z12,z13)\n",
      "    (z13,z,_) = power_rev(z13,z,2)\n",
      "    (z12,z11,_) = power_rev(z12,z11,2)\n",
      "    (z11,_,z10) = minus_rev(z11,3,z10)\n",
      "    (z10,z9) = sqrt_rev(z10,z9)\n",
      "    (z9,z7,z8) = plus_rev(z9,z7,z8)\n",
      "    (z8,y,_) = power_rev(z8,y,2)\n",
      "    (z7,x,_) = power_rev(z7,x,2)\n",
      "    return (x,y,z)\n",
      "end\n"
     ]
    },
    {
     "data": {
      "text/plain": [
       "Separator with variables x, y, z"
      ]
     },
     "execution_count": 4,
     "metadata": {},
     "output_type": "execute_result"
    }
   ],
   "source": [
    "solid_torus = @constraint (3 - sqrt(x^2 + y^2))^2 + z^2 <= 1"
   ]
  },
  {
   "cell_type": "code",
   "execution_count": 5,
   "metadata": {
    "collapsed": false
   },
   "outputs": [
    {
     "name": "stdout",
     "output_type": "stream",
     "text": [
      "  3.712546 seconds (10.17 M allocations: 381.060 MB, 5.05% gc time)\n"
     ]
    }
   ],
   "source": [
    "Y = IntervalBox(-5..5, -5..5, -5..5)\n",
    "@time paving = setinverse(solid_torus, Y, 0.25);"
   ]
  },
  {
   "cell_type": "code",
   "execution_count": 6,
   "metadata": {
    "collapsed": false
   },
   "outputs": [
    {
     "data": {
      "text/plain": [
       "3520"
      ]
     },
     "execution_count": 6,
     "metadata": {},
     "output_type": "execute_result"
    },
    {
     "name": "stderr",
     "output_type": "stream",
     "text": [
      "WARNING: Base.writemime is deprecated.\n",
      "  likely near /Users/dpsanders/.julia/v0.5/IJulia/src/kernel.jl:31\n",
      "WARNING: Base.writemime is deprecated.\n",
      "  likely near /Users/dpsanders/.julia/v0.5/IJulia/src/kernel.jl:31\n",
      "WARNING: Base.writemime is deprecated.\n",
      "  likely near /Users/dpsanders/.julia/v0.5/IJulia/src/kernel.jl:31\n",
      "WARNING: Base.writemime is deprecated.\n",
      "  likely near /Users/dpsanders/.julia/v0.5/IJulia/src/kernel.jl:31\n",
      "WARNING: Base.writemime is deprecated.\n",
      "  likely near /Users/dpsanders/.julia/v0.5/IJulia/src/kernel.jl:31\n",
      "in display_dict at /Users/dpsanders/.julia/v0.5/IJulia/src/execute_request.jl\n"
     ]
    }
   ],
   "source": [
    "length(paving.inner)"
   ]
  },
  {
   "cell_type": "markdown",
   "metadata": {},
   "source": [
    "## 3D vis "
   ]
  },
  {
   "cell_type": "code",
   "execution_count": null,
   "metadata": {
    "collapsed": false
   },
   "outputs": [],
   "source": [
    "using GLVisualize, GeometryTypes, GLAbstraction, Colors"
   ]
  },
  {
   "cell_type": "code",
   "execution_count": null,
   "metadata": {
    "collapsed": false
   },
   "outputs": [],
   "source": [
    "inner = paving.inner\n",
    "positions = Point3{Float32}[Point3(mid(x)) for x in inner]\n",
    "scales = Vec3f0[Vec3f0([diam(x) for x in xx]) for xx in inner]\n",
    "colors = [RGBA(1f0, 0f0, 0f0, 0.1f0) for xx in inner];"
   ]
  },
  {
   "cell_type": "code",
   "execution_count": 7,
   "metadata": {
    "collapsed": false
   },
   "outputs": [
    {
     "name": "stderr",
     "output_type": "stream",
     "text": [
      "INFO: Precompiling module GLVisualize...\n",
      "WARNING: Base.String is deprecated, use AbstractString instead.\n",
      "  likely near /Users/dpsanders/.julia/v0.4/GLVisualize/src/FreeTypeAbstraction.jl:18\n",
      "WARNING: Base.String is deprecated, use AbstractString instead.\n",
      "  likely near /Users/dpsanders/.julia/v0.4/GLVisualize/src/FreeTypeAbstraction.jl:18\n",
      "ERROR: LoadError: LoadError: syntax: invalid method name \"::Type{AABB}\"\n",
      " in include at /Applications/Julia-0.4.6.app/Contents/Resources/julia/lib/julia/sys.dylib\n",
      " in include_from_node1 at /Applications/Julia-0.4.6.app/Contents/Resources/julia/lib/julia/sys.dylib\n",
      " in include at /Applications/Julia-0.4.6.app/Contents/Resources/julia/lib/julia/sys.dylib\n",
      " in include_from_node1 at /Applications/Julia-0.4.6.app/Contents/Resources/julia/lib/julia/sys.dylib\n",
      " [inlined code] from none:2\n",
      " in anonymous at no file:0\n",
      " in process_options at /Applications/Julia-0.4.6.app/Contents/Resources/julia/lib/julia/sys.dylib\n",
      " in _start at /Applications/Julia-0.4.6.app/Contents/Resources/julia/lib/julia/sys.dylib\n",
      "while loading /Users/dpsanders/.julia/v0.4/GLVisualize/src/utils.jl, in expression starting on line 96\n",
      "while loading /Users/dpsanders/.julia/v0.4/GLVisualize/src/GLVisualize.jl, in expression starting on line 57\n"
     ]
    },
    {
     "ename": "LoadError",
     "evalue": "LoadError: Failed to precompile GLVisualize to /Users/dpsanders/.julia/lib/v0.4/GLVisualize.ji\nwhile loading In[7], in expression starting on line 1",
     "output_type": "error",
     "traceback": [
      "LoadError: Failed to precompile GLVisualize to /Users/dpsanders/.julia/lib/v0.4/GLVisualize.ji\nwhile loading In[7], in expression starting on line 1",
      "",
      " in error at /Applications/Julia-0.4.6.app/Contents/Resources/julia/lib/julia/sys.dylib",
      " in compilecache at loading.jl:400",
      " in require at /Applications/Julia-0.4.6.app/Contents/Resources/julia/lib/julia/sys.dylib"
     ]
    }
   ],
   "source": [
    "using GLVisualize, GeometryTypes, GLAbstraction, Colors\n",
    "println(\"Visualization packages loaded.\")\n",
    "\n",
    "cube_particle = HyperRectangle{3, Float32}(Vec3f0(-0.5, -0.5, -0.5), Vec3f0(1, 1, 1))\n",
    "\n",
    "window = glscreen()\n",
    "\n",
    "vis = visualize( (cube_particle, positions), scale=scales, color=colors)\n",
    "\n",
    "view(vis)\n",
    "\n",
    "\n",
    "renderloop(window)"
   ]
  },
  {
   "cell_type": "code",
   "execution_count": null,
   "metadata": {
    "collapsed": true
   },
   "outputs": [],
   "source": []
  }
 ],
 "metadata": {
  "kernelspec": {
   "display_name": "Julia 0.5.0-dev",
   "language": "julia",
   "name": "julia-0.5"
  },
  "language_info": {
   "file_extension": ".jl",
   "mimetype": "application/julia",
   "name": "julia",
   "version": "0.5.0"
  },
  "widgets": {
   "state": {},
   "version": "1.1.2"
  }
 },
 "nbformat": 4,
 "nbformat_minor": 0
}
