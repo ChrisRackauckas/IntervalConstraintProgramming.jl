{
 "cells": [
  {
   "cell_type": "code",
   "execution_count": 1,
   "metadata": {
    "collapsed": false
   },
   "outputs": [],
   "source": [
    "using IntervalConstraintProgramming, ValidatedNumerics"
   ]
  },
  {
   "cell_type": "code",
   "execution_count": 2,
   "metadata": {
    "collapsed": false
   },
   "outputs": [
    {
     "data": {
      "text/plain": [
       "Separator with variables x, y, z"
      ]
     },
     "execution_count": 2,
     "metadata": {},
     "output_type": "execute_result"
    }
   ],
   "source": [
    "solid_torus = @constraint (3 - sqrt(x^2 + y^2))^2 + z^2 <= 1\n",
    "\n",
    "half_plane = @constraint x + y + z <= 1"
   ]
  },
  {
   "cell_type": "code",
   "execution_count": 37,
   "metadata": {
    "collapsed": false
   },
   "outputs": [
    {
     "name": "stdout",
     "output_type": "stream",
     "text": [
      "  3.968720 seconds (17.33 M allocations: 463.621 MB, 11.76% gc time)\n"
     ]
    }
   ],
   "source": [
    "Y = IntervalBox(-5..5, -5..5, -5..5)\n",
    "@time paving = setinverse(solid_torus ∩ half_plane, Y, 0.25);"
   ]
  },
  {
   "cell_type": "code",
   "execution_count": 38,
   "metadata": {
    "collapsed": false
   },
   "outputs": [
    {
     "name": "stdout",
     "output_type": "stream",
     "text": [
      " 24.510120 seconds (117.16 M allocations: 2.985 GB, 15.25% gc time)\n"
     ]
    },
    {
     "data": {
      "text/plain": [
       "0.1"
      ]
     },
     "execution_count": 38,
     "metadata": {},
     "output_type": "execute_result"
    }
   ],
   "source": [
    "@time refine!(paving, 0.1)"
   ]
  },
  {
   "cell_type": "code",
   "execution_count": 10,
   "metadata": {
    "collapsed": false
   },
   "outputs": [
    {
     "name": "stderr",
     "output_type": "stream",
     "text": [
      "INFO: Recompiling stale cache file /Users/dpsanders/.julia/lib/v0.4/JLD.ji for module JLD.\n",
      "INFO: Recompiling stale cache file /Users/dpsanders/.julia/lib/v0.4/HDF5.ji for module HDF5.\n",
      "INFO: Recompiling stale cache file /Users/dpsanders/.julia/lib/v0.4/Blosc.ji for module Blosc.\n"
     ]
    }
   ],
   "source": [
    "using JLD"
   ]
  },
  {
   "cell_type": "code",
   "execution_count": 23,
   "metadata": {
    "collapsed": true
   },
   "outputs": [],
   "source": [
    "save(\"weird.jld\", \"boundary\", paving.boundary)\n"
   ]
  },
  {
   "cell_type": "code",
   "execution_count": 25,
   "metadata": {
    "collapsed": false
   },
   "outputs": [
    {
     "name": "stdout",
     "output_type": "stream",
     "text": [
      " 53.493586 seconds (81.24 M allocations: 2.192 GB, 2.47% gc time)\n"
     ]
    }
   ],
   "source": [
    "Y = IntervalBox(-5..5, -5..5, -5..5)\n",
    "@time paving = setinverse(weird, Y, 0.5);"
   ]
  },
  {
   "cell_type": "code",
   "execution_count": 3,
   "metadata": {
    "collapsed": false
   },
   "outputs": [
    {
     "ename": "LoadError",
     "evalue": "LoadError: InterruptException:\nwhile loading In[3], in expression starting on line 155",
     "output_type": "error",
     "traceback": [
      "LoadError: InterruptException:\nwhile loading In[3], in expression starting on line 155",
      "",
      " in call at /Applications/Julia-0.4.6.app/Contents/Resources/julia/lib/julia/sys.dylib",
      " in ^ at mpfr.jl:433",
      " in anonymous at /Users/dpsanders/.julia/v0.4/ValidatedNumerics/src/intervals/macros.jl:39",
      " in with_rounding at rounding.jl:54",
      " [inlined code] from /Users/dpsanders/.julia/v0.4/ValidatedNumerics/src/intervals/macros.jl:38",
      " in sqr at /Users/dpsanders/.julia/v0.4/ValidatedNumerics/src/intervals/functions.jl:70",
      " in ^ at /Users/dpsanders/.julia/v0.4/ValidatedNumerics/src/intervals/functions.jl:21",
      " in ^ at /Users/dpsanders/.julia/v0.4/ValidatedNumerics/src/intervals/functions.jl:11",
      " in anonymous at /Users/dpsanders/.julia/v0.4/IntervalConstraintProgramming/src/contractor.jl:152",
      " in call at /Users/dpsanders/.julia/v0.4/IntervalConstraintProgramming/src/contractor.jl:211",
      " in anonymous at /Users/dpsanders/.julia/v0.4/IntervalConstraintProgramming/src/separator.jl:33",
      " in pave at /Users/dpsanders/.julia/v0.4/IntervalConstraintProgramming/src/setinversion.jl:35",
      " in setinverse at /Users/dpsanders/.julia/v0.4/IntervalConstraintProgramming/src/setinversion.jl:76"
     ]
    }
   ],
   "source": [
    "pinch = @constraint x^2+y^2+z^2*(z-1)==0\n",
    "Y = IntervalBox(-5..5, -5..5, -5..5)\n",
    "@time paving = setinverse(pinch, Y, 0.1);\n",
    "inner = paving.boundary;"
   ]
  },
  {
   "cell_type": "markdown",
   "metadata": {},
   "source": [
    "## 3D vis "
   ]
  },
  {
   "cell_type": "code",
   "execution_count": 39,
   "metadata": {
    "collapsed": false
   },
   "outputs": [],
   "source": [
    "inner = paving.inner\n",
    "boundary = paving.boundary;"
   ]
  },
  {
   "cell_type": "code",
   "execution_count": 11,
   "metadata": {
    "collapsed": false
   },
   "outputs": [],
   "source": [
    "using GLVisualize, GeometryTypes, GLAbstraction, Colors"
   ]
  },
  {
   "cell_type": "code",
   "execution_count": 40,
   "metadata": {
    "collapsed": false
   },
   "outputs": [],
   "source": [
    "positions = Point3{Float32}[Point3(mid(x)) for x in vcat(inner, boundary)]\n",
    "scales = Vec3f0[Vec3f0([diam(x) for x in xx]) for xx in vcat(inner, boundary)]\n",
    "\n",
    "zs = Float32[x[3] for x in positions]\n",
    "minz = minimum(zs)\n",
    "maxz = maximum(zs)\n",
    "\n",
    "xs = Float32[x[1] for x in positions]\n",
    "minx = minimum(xs)\n",
    "maxx = maximum(xs)\n",
    "\n",
    "colors1 = RGBA{Float32}[RGBA( (zs[i]-minz)/(maxz-minz), (xs[i]-minx)/(maxx-minx), 0f0, 0.1f0)\n",
    "        for i in 1:length(inner)]\n",
    "colors2 = RGBA{Float32}[RGBA( 0.5f0, 0.5f0, 0.5f0, 0.02f0) for x in boundary];\n",
    "colors = vcat(colors1, colors2);"
   ]
  },
  {
   "cell_type": "code",
   "execution_count": 41,
   "metadata": {
    "collapsed": false,
    "scrolled": true
   },
   "outputs": [
    {
     "name": "stdout",
     "output_type": "stream",
     "text": [
      "Visualization packages loaded.\n"
     ]
    },
    {
     "data": {
      "text/plain": [
       "Ptr{Void} @0x0000000000000000"
      ]
     },
     "execution_count": 41,
     "metadata": {},
     "output_type": "execute_result"
    }
   ],
   "source": [
    "using GLVisualize, GeometryTypes, GLAbstraction, Colors\n",
    "println(\"Visualization packages loaded.\")\n",
    "\n",
    "cube_particle = HyperRectangle{3, Float32}(Vec3f0(-0.5, -0.5, -0.5), Vec3f0(1, 1, 1))\n",
    "\n",
    "window = glscreen()\n",
    "\n",
    "vis = visualize( (cube_particle, positions), scale=scales, color=colors)\n",
    "\n",
    "view(vis)\n",
    "\n",
    "\n",
    "renderloop(window)"
   ]
  },
  {
   "cell_type": "code",
   "execution_count": null,
   "metadata": {
    "collapsed": true
   },
   "outputs": [],
   "source": []
  }
 ],
 "metadata": {
  "kernelspec": {
   "display_name": "Julia 0.4.6",
   "language": "julia",
   "name": "julia-0.4"
  },
  "language_info": {
   "file_extension": ".jl",
   "mimetype": "application/julia",
   "name": "julia",
   "version": "0.4.6"
  },
  "widgets": {
   "state": {},
   "version": "1.1.2"
  }
 },
 "nbformat": 4,
 "nbformat_minor": 0
}
